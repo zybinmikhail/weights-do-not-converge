{
 "cells": [
  {
   "cell_type": "code",
   "execution_count": null,
   "id": "de56d3f3",
   "metadata": {},
   "outputs": [],
   "source": [
    "from google.colab import drive\n",
    "GOOGLE_DRIVE_MOUNT = \"/content/gdrive\"\n",
    "drive.mount(GOOGLE_DRIVE_MOUNT)"
   ]
  },
  {
   "cell_type": "code",
   "execution_count": 7,
   "id": "48c878b9",
   "metadata": {},
   "outputs": [],
   "source": [
    "import torch\n",
    "import torchvision\n",
    "from torchvision.models import resnet101, ResNet101_Weights"
   ]
  },
  {
   "cell_type": "code",
   "execution_count": 3,
   "id": "6e02b9b7",
   "metadata": {},
   "outputs": [],
   "source": [
    "model = resnet101()"
   ]
  }
 ],
 "metadata": {
  "kernelspec": {
   "display_name": "weights",
   "language": "python",
   "name": "weights"
  },
  "language_info": {
   "codemirror_mode": {
    "name": "ipython",
    "version": 3
   },
   "file_extension": ".py",
   "mimetype": "text/x-python",
   "name": "python",
   "nbconvert_exporter": "python",
   "pygments_lexer": "ipython3",
   "version": "3.10.8"
  }
 },
 "nbformat": 4,
 "nbformat_minor": 5
}
